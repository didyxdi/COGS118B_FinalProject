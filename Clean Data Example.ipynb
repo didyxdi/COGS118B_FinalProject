{
 "cells": [
  {
   "cell_type": "code",
   "execution_count": 53,
   "metadata": {},
   "outputs": [],
   "source": [
    "# Cleans up the Social Data: from the website we have been collected data this program should clean it up\n",
    "import pandas as pd\n",
    "import numpy as np\n",
    "\n",
    "social_Dat = pd.read_csv('SocialData.csv', header = None) # import data\n",
    "social_Copy = social_Dat.drop([0]) # removes first column (found this row usesless random)\n",
    "social_Copy = social_Copy.rename(columns=social_Copy.iloc[0]) # changes the first row to column titles\n",
    "social_Copy = social_Copy.drop([1]) # drops the first row that has titles, no longer needed since titles are assigned\n",
    "social_Copy = social_Copy.reset_index(drop=True) # resets the row order numbers since we dropped two rows\n",
    "social_Copy = social_Copy[social_Copy.columns.drop(list(social_Copy.filter(regex='Margin')))] #removed column with Margin in title"
   ]
  },
  {
   "cell_type": "code",
   "execution_count": null,
   "metadata": {},
   "outputs": [],
   "source": []
  }
 ],
 "metadata": {
  "kernelspec": {
   "display_name": "Python 3",
   "language": "python",
   "name": "python3"
  },
  "language_info": {
   "codemirror_mode": {
    "name": "ipython",
    "version": 3
   },
   "file_extension": ".py",
   "mimetype": "text/x-python",
   "name": "python",
   "nbconvert_exporter": "python",
   "pygments_lexer": "ipython3",
   "version": "3.7.1"
  }
 },
 "nbformat": 4,
 "nbformat_minor": 2
}
